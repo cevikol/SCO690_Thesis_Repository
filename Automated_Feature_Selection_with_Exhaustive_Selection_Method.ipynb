{
  "nbformat": 4,
  "nbformat_minor": 0,
  "metadata": {
    "colab": {
      "name": "Automated Feature Selection with Exhaustive Selection Method.ipynb",
      "provenance": [],
      "collapsed_sections": []
    },
    "kernelspec": {
      "display_name": "Python 3",
      "name": "python3"
    },
    "language_info": {
      "name": "python"
    }
  },
  "cells": [
    {
      "cell_type": "markdown",
      "metadata": {
        "id": "iBbodYLPv3g5"
      },
      "source": [
        "**AUTOMATED FEATURE SELECTION**"
      ]
    },
    {
      "cell_type": "markdown",
      "metadata": {
        "id": "meY08nIWwGUY"
      },
      "source": [
        "# Set up"
      ]
    },
    {
      "cell_type": "markdown",
      "metadata": {
        "id": "qXqq-tutwSmf"
      },
      "source": [
        ""
      ]
    },
    {
      "cell_type": "code",
      "metadata": {
        "colab": {
          "base_uri": "https://localhost:8080/"
        },
        "id": "oJVbsKY7zZYW",
        "outputId": "5bb30b72-17a8-4a81-e166-6e02edcf22b9"
      },
      "source": [
        "from mlxtend.feature_selection import ExhaustiveFeatureSelector\n",
        "from sklearn.ensemble import RandomForestRegressor, RandomForestClassifier\n",
        "from sklearn.metrics import roc_auc_score\n",
        "\n",
        "import nltk\n",
        "import pandas as pd\n",
        "import numpy as np # linear algebra\n",
        "\n",
        "from sklearn.model_selection import train_test_split\n",
        "from sklearn.feature_selection import VarianceThreshold"
      ],
      "execution_count": 1,
      "outputs": [
        {
          "output_type": "stream",
          "text": [
            "/usr/local/lib/python3.7/dist-packages/sklearn/externals/joblib/__init__.py:15: FutureWarning: sklearn.externals.joblib is deprecated in 0.21 and will be removed in 0.23. Please import this functionality directly from joblib, which can be installed with: pip install joblib. If this warning is raised when loading pickled models, you may need to re-serialize those models with scikit-learn 0.21+.\n",
            "  warnings.warn(msg, category=FutureWarning)\n"
          ],
          "name": "stderr"
        }
      ]
    },
    {
      "cell_type": "markdown",
      "metadata": {
        "id": "bWkXW5Szw6OA"
      },
      "source": [
        "# Functional Features"
      ]
    },
    {
      "cell_type": "code",
      "metadata": {
        "colab": {
          "base_uri": "https://localhost:8080/",
          "height": 262
        },
        "id": "OjEqLBNBKDiz",
        "outputId": "382e112e-956f-4528-f8dc-2aad9ba047b0"
      },
      "source": [
        "# read the combined data set with all requirements. \n",
        "\n",
        "datapath = './promise17.csv'\n",
        "df = pd.read_csv(datapath, index_col = \"index\")\n",
        "print(df.shape)\n",
        "\n",
        "df = df.drop(\"ProjectID\", 1)       # feature matrix\n",
        "df= df.drop(\"RequirementText\", 1)       # feature matrix\n",
        "df=df.drop(\"Class\", 1)\n",
        "df=df.drop(\"IsQuality\", 1)\n",
        "\n",
        "df.head(5)\n"
      ],
      "execution_count": 2,
      "outputs": [
        {
          "output_type": "stream",
          "text": [
            "(625, 22)\n"
          ],
          "name": "stdout"
        },
        {
          "output_type": "execute_result",
          "data": {
            "text/html": [
              "<div>\n",
              "<style scoped>\n",
              "    .dataframe tbody tr th:only-of-type {\n",
              "        vertical-align: middle;\n",
              "    }\n",
              "\n",
              "    .dataframe tbody tr th {\n",
              "        vertical-align: top;\n",
              "    }\n",
              "\n",
              "    .dataframe thead th {\n",
              "        text-align: right;\n",
              "    }\n",
              "</style>\n",
              "<table border=\"1\" class=\"dataframe\">\n",
              "  <thead>\n",
              "    <tr style=\"text-align: right;\">\n",
              "      <th></th>\n",
              "      <th>IsFunctional</th>\n",
              "      <th>AComp</th>\n",
              "      <th>nsubj</th>\n",
              "      <th>dobj</th>\n",
              "      <th>nummod</th>\n",
              "      <th>amod</th>\n",
              "      <th>acl</th>\n",
              "      <th>nmod</th>\n",
              "      <th>auxpass</th>\n",
              "      <th>nsubjpass</th>\n",
              "      <th>prep</th>\n",
              "      <th>pobj</th>\n",
              "      <th>advmod</th>\n",
              "      <th>Modal</th>\n",
              "      <th>Adverb</th>\n",
              "      <th>Cardinal</th>\n",
              "      <th>hasFverb</th>\n",
              "      <th>hasQverb</th>\n",
              "    </tr>\n",
              "    <tr>\n",
              "      <th>index</th>\n",
              "      <th></th>\n",
              "      <th></th>\n",
              "      <th></th>\n",
              "      <th></th>\n",
              "      <th></th>\n",
              "      <th></th>\n",
              "      <th></th>\n",
              "      <th></th>\n",
              "      <th></th>\n",
              "      <th></th>\n",
              "      <th></th>\n",
              "      <th></th>\n",
              "      <th></th>\n",
              "      <th></th>\n",
              "      <th></th>\n",
              "      <th></th>\n",
              "      <th></th>\n",
              "      <th></th>\n",
              "    </tr>\n",
              "  </thead>\n",
              "  <tbody>\n",
              "    <tr>\n",
              "      <th>0</th>\n",
              "      <td>1</td>\n",
              "      <td>0</td>\n",
              "      <td>1</td>\n",
              "      <td>1</td>\n",
              "      <td>1</td>\n",
              "      <td>0</td>\n",
              "      <td>0</td>\n",
              "      <td>0</td>\n",
              "      <td>0</td>\n",
              "      <td>0</td>\n",
              "      <td>0</td>\n",
              "      <td>0</td>\n",
              "      <td>0</td>\n",
              "      <td>1</td>\n",
              "      <td>0</td>\n",
              "      <td>1</td>\n",
              "      <td>0</td>\n",
              "      <td>0</td>\n",
              "    </tr>\n",
              "    <tr>\n",
              "      <th>1</th>\n",
              "      <td>0</td>\n",
              "      <td>0</td>\n",
              "      <td>1</td>\n",
              "      <td>1</td>\n",
              "      <td>0</td>\n",
              "      <td>0</td>\n",
              "      <td>1</td>\n",
              "      <td>0</td>\n",
              "      <td>0</td>\n",
              "      <td>0</td>\n",
              "      <td>1</td>\n",
              "      <td>1</td>\n",
              "      <td>0</td>\n",
              "      <td>1</td>\n",
              "      <td>0</td>\n",
              "      <td>0</td>\n",
              "      <td>0</td>\n",
              "      <td>0</td>\n",
              "    </tr>\n",
              "    <tr>\n",
              "      <th>2</th>\n",
              "      <td>0</td>\n",
              "      <td>1</td>\n",
              "      <td>1</td>\n",
              "      <td>1</td>\n",
              "      <td>1</td>\n",
              "      <td>1</td>\n",
              "      <td>0</td>\n",
              "      <td>1</td>\n",
              "      <td>0</td>\n",
              "      <td>0</td>\n",
              "      <td>1</td>\n",
              "      <td>1</td>\n",
              "      <td>0</td>\n",
              "      <td>2</td>\n",
              "      <td>0</td>\n",
              "      <td>3</td>\n",
              "      <td>0</td>\n",
              "      <td>1</td>\n",
              "    </tr>\n",
              "    <tr>\n",
              "      <th>3</th>\n",
              "      <td>0</td>\n",
              "      <td>2</td>\n",
              "      <td>1</td>\n",
              "      <td>1</td>\n",
              "      <td>1</td>\n",
              "      <td>1</td>\n",
              "      <td>0</td>\n",
              "      <td>0</td>\n",
              "      <td>0</td>\n",
              "      <td>0</td>\n",
              "      <td>1</td>\n",
              "      <td>1</td>\n",
              "      <td>1</td>\n",
              "      <td>2</td>\n",
              "      <td>2</td>\n",
              "      <td>2</td>\n",
              "      <td>0</td>\n",
              "      <td>1</td>\n",
              "    </tr>\n",
              "    <tr>\n",
              "      <th>4</th>\n",
              "      <td>0</td>\n",
              "      <td>1</td>\n",
              "      <td>1</td>\n",
              "      <td>1</td>\n",
              "      <td>1</td>\n",
              "      <td>1</td>\n",
              "      <td>0</td>\n",
              "      <td>0</td>\n",
              "      <td>0</td>\n",
              "      <td>0</td>\n",
              "      <td>1</td>\n",
              "      <td>1</td>\n",
              "      <td>0</td>\n",
              "      <td>2</td>\n",
              "      <td>0</td>\n",
              "      <td>3</td>\n",
              "      <td>0</td>\n",
              "      <td>1</td>\n",
              "    </tr>\n",
              "  </tbody>\n",
              "</table>\n",
              "</div>"
            ],
            "text/plain": [
              "       IsFunctional  AComp  nsubj  dobj  ...  Adverb  Cardinal  hasFverb  hasQverb\n",
              "index                                    ...                                      \n",
              "0                 1      0      1     1  ...       0         1         0         0\n",
              "1                 0      0      1     1  ...       0         0         0         0\n",
              "2                 0      1      1     1  ...       0         3         0         1\n",
              "3                 0      2      1     1  ...       2         2         0         1\n",
              "4                 0      1      1     1  ...       0         3         0         1\n",
              "\n",
              "[5 rows x 18 columns]"
            ]
          },
          "metadata": {
            "tags": []
          },
          "execution_count": 2
        }
      ]
    },
    {
      "cell_type": "code",
      "metadata": {
        "colab": {
          "background_save": true
        },
        "id": "ovcAwkB5nBwq"
      },
      "source": [
        "feature_selector = ExhaustiveFeatureSelector(RandomForestClassifier(n_jobs=-1),\n",
        "           min_features=2,\n",
        "           max_features=10,\n",
        "           scoring='roc_auc',\n",
        "           print_progress=True,\n",
        "           cv=2)\n",
        "\n",
        "train_features, test_features, train_labels, test_labels = train_test_split(\n",
        "    df.drop(labels=['IsFunctional'], axis=1),\n",
        "    df['IsFunctional'],\n",
        "    test_size=0.25,\n",
        "    random_state=41)\n",
        "\n",
        "features = feature_selector.fit(train_features, train_labels) #np.array(train_features.fillna(0)), train_labels)\n",
        "\n",
        "list(features.best_feature_names_)\n",
        "\n",
        "filtered_features = list(features.best_feature_names_)\n",
        "print(featured_features)\n",
        "\n",
        "keep_col = ['ProjectID','IsQuality','IsFunctional'] + filtered_features\n",
        "\n",
        "# update all the datasets columns according to the selected features, and remove the redundant features. \n",
        "# and save the new files in the new folder\n",
        "data_folder = './' #can be an url\n",
        "datafolder2 = './exhs/'\n",
        "filenames = ['promise-reclass', 'ds2', 'ds3', 'dronology', 'wasp', 'esa-eucl-est', 'leeds', 'reqview', 'reqreq','rds4','rds8','rds9','rds12', 'OAppt' ]\n",
        "for filename in filenames: #loop for all datasets\n",
        "      data3 = pd.read_csv(data_folder+filename + '-ling-FinalSel_vlist.csv', engine='python')\n",
        "      keep_col = ['ProjectID','IsQuality','IsFunctional'] + filtered_features\n",
        "      new_data = data3[keep_col]\n",
        "      new_filename = filename  + '-exhs-allext.csv'\n",
        "      new_data.to_csv(datafolder2+new_filename, index=True)\n",
        "\n",
        "!zip ALL_DATASETS_EXHS.zip -r exhs/*      "
      ],
      "execution_count": null,
      "outputs": []
    },
    {
      "cell_type": "code",
      "metadata": {
        "id": "8KjckkGpYg-Q"
      },
      "source": [
        "# update all the datasets columns according to the selected features, and remove the redundant features. \n",
        "# and save the new files in the new folder\n",
        "data_folder = './' #can be an url\n",
        "datafolder2 = './exhs/'\n",
        "filenames = ['promise-reclass', 'ds2', 'ds3', 'dronology', 'wasp', 'esa-eucl-est', 'leeds', 'reqview', 'reqreq','rds4','rds8','rds9','rds12', 'OAppt' ]\n",
        "for filename in filenames: #loop for all datasets\n",
        "      data3 = pd.read_csv(data_folder+filename + '-ling-FinalSel_vlist.csv', engine='python')\n",
        "      keep_col = ['ProjectID','IsQuality','IsFunctional'] + filtered_features\n",
        "      new_data = data3[keep_col]\n",
        "      new_filename = filename  + '-exhs-allext.csv'\n",
        "      new_data.to_csv(datafolder2+new_filename, index=True)"
      ],
      "execution_count": null,
      "outputs": []
    },
    {
      "cell_type": "markdown",
      "metadata": {
        "id": "j75m75WT96B2"
      },
      "source": [
        "# Quality Features"
      ]
    },
    {
      "cell_type": "code",
      "metadata": {
        "id": "emnX1QUL9-Vg"
      },
      "source": [
        "# read the combined data set with all requirements. \n",
        "\n",
        "datapath = './promise17.csv'\n",
        "df = pd.read_csv(datapath, index_col = \"index\")\n",
        "print(df.shape)\n",
        "\n",
        "df = df.drop(\"ProjectID\", 1)       # feature matrix\n",
        "df= df.drop(\"RequirementText\", 1)       # feature matrix\n",
        "df=df.drop(\"Class\", 1)\n",
        "df=df.drop(\"IsFunctional\", 1)\n",
        "\n",
        "df.head(5)"
      ],
      "execution_count": null,
      "outputs": []
    },
    {
      "cell_type": "code",
      "metadata": {
        "id": "n9q6gRVA-DEl"
      },
      "source": [
        "feature_selector = ExhaustiveFeatureSelector(RandomForestClassifier(n_jobs=-1),\n",
        "           min_features=2,\n",
        "           max_features=17,\n",
        "           scoring='roc_auc',\n",
        "           print_progress=True,\n",
        "           cv=2)\n"
      ],
      "execution_count": null,
      "outputs": []
    },
    {
      "cell_type": "code",
      "metadata": {
        "id": "p1zFd58j-FT-"
      },
      "source": [
        "train_features, test_features, train_labels, test_labels = train_test_split(\n",
        "    df.drop(labels=['IsQuality'], axis=1),\n",
        "    df['IsQuality'],\n",
        "    test_size=0.25,\n",
        "    random_state=41)"
      ],
      "execution_count": null,
      "outputs": []
    },
    {
      "cell_type": "code",
      "metadata": {
        "id": "YLuuGShQ-Kfk"
      },
      "source": [
        "features = feature_selector.fit(train_features, train_labels) #np.array(train_features.fillna(0)), train_labels)"
      ],
      "execution_count": null,
      "outputs": []
    },
    {
      "cell_type": "code",
      "metadata": {
        "id": "qTN-YLFC-NiH"
      },
      "source": [
        "list(features.best_feature_names_)\n",
        "filtered_features = list(features.best_feature_names_)\n",
        "print(featured_features)"
      ],
      "execution_count": null,
      "outputs": []
    },
    {
      "cell_type": "code",
      "metadata": {
        "id": "9hp7TO02-Ryt"
      },
      "source": [
        "keep_col = ['ProjectID','IsQuality','IsFunctional'] + filtered_features"
      ],
      "execution_count": null,
      "outputs": []
    },
    {
      "cell_type": "code",
      "metadata": {
        "id": "hs-6oIWe-TkF"
      },
      "source": [
        "# update all the datasets columns according to the selected features, and remove the redundant features. \n",
        "# and save the new files in the new folder\n",
        "data_folder = './' #can be an url\n",
        "datafolder2 = './exhsq/'\n",
        "filenames = ['promise-reclass', 'ds2', 'ds3', 'dronology', 'wasp', 'esa-eucl-est', 'leeds', 'reqview', 'reqreq','rds4','rds8','rds9','rds12', 'OAppt' ]\n",
        "for filename in filenames: #loop for all datasets\n",
        "      data3 = pd.read_csv(data_folder+filename + '-ling-FinalSel_vlist.csv', engine='python')\n",
        "      keep_col = ['ProjectID','IsQuality','IsFunctional'] + filtered_features\n",
        "      new_data = data3[keep_col]\n",
        "      new_filename = filename  + '-exhsq-allext.csv'\n",
        "      new_data.to_csv(datafolder2+new_filename, index=True)"
      ],
      "execution_count": null,
      "outputs": []
    },
    {
      "cell_type": "markdown",
      "metadata": {
        "id": "AfFEuZir98N-"
      },
      "source": [
        "# Download"
      ]
    },
    {
      "cell_type": "code",
      "metadata": {
        "colab": {
          "base_uri": "https://localhost:8080/"
        },
        "id": "UCFWKRH55unN",
        "outputId": "9dc01a0e-d059-46f8-ab5d-39ee5761c320"
      },
      "source": [
        "#to save all in once, since jupyter does not allow to download multiple files together\n",
        "\n",
        "!zip ALL_DATASETS_EXHS.zip -r exhs/*\n",
        "!zip ALL_DATASETS_EXHSQ.zip -r exhs/*"
      ],
      "execution_count": null,
      "outputs": [
        {
          "output_type": "stream",
          "text": [
            "  adding: exhs/dronology-exhs-allext.csv (deflated 80%)\n",
            "  adding: exhs/ds2-exhs-allext.csv (deflated 81%)\n",
            "  adding: exhs/ds3-exhs-allext.csv (deflated 82%)\n",
            "  adding: exhs/esa-eucl-est-exhs-allext.csv (deflated 80%)\n",
            "  adding: exhs/leeds-exhs-allext.csv (deflated 78%)\n",
            "  adding: exhs/OAppt-exhs-allext.csv (deflated 79%)\n",
            "  adding: exhs/promise-reclass-exhs-allext.csv (deflated 81%)\n",
            "  adding: exhs/rds12-exhs-allext.csv (deflated 83%)\n",
            "  adding: exhs/rds4-exhs-allext.csv (deflated 77%)\n",
            "  adding: exhs/rds8-exhs-allext.csv (deflated 81%)\n",
            "  adding: exhs/rds9-exhs-allext.csv (deflated 80%)\n",
            "  adding: exhs/reqreq-exhs-allext.csv (deflated 75%)\n",
            "  adding: exhs/reqview-exhs-allext.csv (deflated 78%)\n",
            "  adding: exhs/wasp-exhs-allext.csv (deflated 75%)\n"
          ],
          "name": "stdout"
        }
      ]
    }
  ]
}