{
  "nbformat": 4,
  "nbformat_minor": 0,
  "metadata": {
    "colab": {
      "name": "Automated Feature Selection with Forward Feature Selection (FFS).ipynb",
      "provenance": []
    },
    "kernelspec": {
      "name": "python3",
      "display_name": "Python 3"
    },
    "language_info": {
      "name": "python"
    }
  },
  "cells": [
    {
      "cell_type": "markdown",
      "metadata": {
        "id": "cM_oTe95we8Y"
      },
      "source": [
        "# Imports"
      ]
    },
    {
      "cell_type": "code",
      "metadata": {
        "id": "AGV9AKfP1N04",
        "colab": {
          "base_uri": "https://localhost:8080/"
        },
        "outputId": "51127e13-8984-44a3-c262-cee5e48aafea"
      },
      "source": [
        "from mlxtend.feature_selection import SequentialFeatureSelector\n",
        "from sklearn import svm\n",
        "from sklearn.svm import SVC"
      ],
      "execution_count": 1,
      "outputs": [
        {
          "output_type": "stream",
          "text": [
            "/usr/local/lib/python3.7/dist-packages/sklearn/externals/joblib/__init__.py:15: FutureWarning: sklearn.externals.joblib is deprecated in 0.21 and will be removed in 0.23. Please import this functionality directly from joblib, which can be installed with: pip install joblib. If this warning is raised when loading pickled models, you may need to re-serialize those models with scikit-learn 0.21+.\n",
            "  warnings.warn(msg, category=FutureWarning)\n"
          ],
          "name": "stderr"
        }
      ]
    },
    {
      "cell_type": "code",
      "metadata": {
        "id": "q-yUtROFu5dV"
      },
      "source": [
        "import pandas as pd\n",
        "import nltk\n",
        "import matplotlib.pyplot as plt\n",
        "import numpy as np\n",
        "from sklearn.preprocessing import StandardScaler, OrdinalEncoder, LabelEncoder\n",
        "from sklearn.linear_model import LogisticRegression, SGDClassifier\n",
        "from sklearn.model_selection import StratifiedKFold, train_test_split, cross_validate\n",
        "from sklearn.feature_selection import RFECV\n",
        "from sklearn.svm import SVC\n",
        "from sklearn.naive_bayes import GaussianNB\n",
        "from sklearn.neighbors import KNeighborsClassifier\n",
        "from sklearn.tree import DecisionTreeClassifier\n",
        "from sklearn.ensemble import AdaBoostClassifier\n",
        "from sklearn.neural_network import MLPClassifier\n",
        "from sklearn.metrics import accuracy_score, plot_confusion_matrix\n",
        "import warnings\n",
        "warnings.filterwarnings(\"ignore\")\n",
        "%matplotlib inline\n",
        "random_state = 123"
      ],
      "execution_count": 2,
      "outputs": []
    },
    {
      "cell_type": "markdown",
      "metadata": {
        "id": "6wBqOA6jwjyv"
      },
      "source": [
        "# Functional"
      ]
    },
    {
      "cell_type": "code",
      "metadata": {
        "id": "9q-ojx60vO-n",
        "colab": {
          "base_uri": "https://localhost:8080/"
        },
        "outputId": "91847f83-d30b-49b7-e660-52578469ee27"
      },
      "source": [
        "# read the combined data set with all requirements. \n",
        "\n",
        "datapath = './promisecombined.csv'\n",
        "df = pd.read_csv(datapath, index_col = \"index\")\n",
        "print(df.shape)\n",
        "#df.head()\n",
        "\n",
        "#df['IsFunctional'] = df.target\n",
        "x = df.drop(\"IsFunctional\", 1)       # feature matrix\n",
        "x = x.drop(\"ProjectID\", 1)       # feature matrix\n",
        "x = x.drop(\"RequirementText\", 1)       # feature matrix\n",
        "x = x.drop(\"Class\", 1)\n",
        "x = x.drop(\"IsQuality\", 1)\n",
        "y = df['IsFunctional']               # target feature\n",
        "df.head()\n",
        "\n",
        "\n",
        "clf = svm.SVC(kernel='linear', probability=True, random_state=0)\n",
        "ffs = SequentialFeatureSelector(clf,\n",
        "           k_features=17,\n",
        "           forward=True,\n",
        "           floating=False,\n",
        "           verbose=2,\n",
        "           scoring='accuracy',\n",
        "           cv=5)\n",
        "ffs.fit(x,y)\n",
        "features=list(ffs.k_feature_names_)\n",
        "#features=list(map(int, features ))\n"
      ],
      "execution_count": 3,
      "outputs": [
        {
          "output_type": "stream",
          "text": [
            "(625, 80)\n"
          ],
          "name": "stdout"
        },
        {
          "output_type": "stream",
          "text": [
            "[Parallel(n_jobs=1)]: Using backend SequentialBackend with 1 concurrent workers.\n",
            "[Parallel(n_jobs=1)]: Done   1 out of   1 | elapsed:    3.1s remaining:    0.0s\n",
            "[Parallel(n_jobs=1)]: Done  75 out of  75 | elapsed:    7.1s finished\n",
            "\n",
            "[2021-05-28 06:38:40] Features: 1/17 -- score: 0.6272[Parallel(n_jobs=1)]: Using backend SequentialBackend with 1 concurrent workers.\n",
            "[Parallel(n_jobs=1)]: Done   1 out of   1 | elapsed:    2.6s remaining:    0.0s\n",
            "[Parallel(n_jobs=1)]: Done  74 out of  74 | elapsed:    6.4s finished\n",
            "\n",
            "[2021-05-28 06:38:46] Features: 2/17 -- score: 0.7024000000000001[Parallel(n_jobs=1)]: Using backend SequentialBackend with 1 concurrent workers.\n",
            "[Parallel(n_jobs=1)]: Done   1 out of   1 | elapsed:    2.4s remaining:    0.0s\n",
            "[Parallel(n_jobs=1)]: Done  73 out of  73 | elapsed:    6.1s finished\n",
            "\n",
            "[2021-05-28 06:38:52] Features: 3/17 -- score: 0.7136000000000001[Parallel(n_jobs=1)]: Using backend SequentialBackend with 1 concurrent workers.\n",
            "[Parallel(n_jobs=1)]: Done   1 out of   1 | elapsed:    8.8s remaining:    0.0s\n",
            "[Parallel(n_jobs=1)]: Done  72 out of  72 | elapsed:   13.0s finished\n",
            "\n",
            "[2021-05-28 06:39:05] Features: 4/17 -- score: 0.7152000000000001[Parallel(n_jobs=1)]: Using backend SequentialBackend with 1 concurrent workers.\n",
            "[Parallel(n_jobs=1)]: Done   1 out of   1 | elapsed:    8.6s remaining:    0.0s\n",
            "[Parallel(n_jobs=1)]: Done  71 out of  71 | elapsed:   12.9s finished\n",
            "\n",
            "[2021-05-28 06:39:18] Features: 5/17 -- score: 0.7152000000000001[Parallel(n_jobs=1)]: Using backend SequentialBackend with 1 concurrent workers.\n",
            "[Parallel(n_jobs=1)]: Done   1 out of   1 | elapsed:    8.1s remaining:    0.0s\n",
            "[Parallel(n_jobs=1)]: Done  70 out of  70 | elapsed: 10.4min finished\n",
            "\n",
            "[2021-05-28 06:49:44] Features: 6/17 -- score: 0.7152000000000001[Parallel(n_jobs=1)]: Using backend SequentialBackend with 1 concurrent workers.\n",
            "[Parallel(n_jobs=1)]: Done   1 out of   1 | elapsed:    7.7s remaining:    0.0s\n",
            "[Parallel(n_jobs=1)]: Done  69 out of  69 | elapsed: 10.0min finished\n",
            "\n",
            "[2021-05-28 06:59:46] Features: 7/17 -- score: 0.7152000000000001[Parallel(n_jobs=1)]: Using backend SequentialBackend with 1 concurrent workers.\n",
            "[Parallel(n_jobs=1)]: Done   1 out of   1 | elapsed:   12.3s remaining:    0.0s\n",
            "[Parallel(n_jobs=1)]: Done  68 out of  68 | elapsed:  9.6min finished\n",
            "\n",
            "[2021-05-28 07:09:23] Features: 8/17 -- score: 0.7152000000000001[Parallel(n_jobs=1)]: Using backend SequentialBackend with 1 concurrent workers.\n",
            "[Parallel(n_jobs=1)]: Done   1 out of   1 | elapsed:   13.9s remaining:    0.0s\n",
            "[Parallel(n_jobs=1)]: Done  67 out of  67 | elapsed:  9.8min finished\n",
            "\n",
            "[2021-05-28 07:19:08] Features: 9/17 -- score: 0.7152000000000001[Parallel(n_jobs=1)]: Using backend SequentialBackend with 1 concurrent workers.\n",
            "[Parallel(n_jobs=1)]: Done   1 out of   1 | elapsed:   13.7s remaining:    0.0s\n",
            "[Parallel(n_jobs=1)]: Done  66 out of  66 | elapsed: 11.8min finished\n",
            "\n",
            "[2021-05-28 07:30:55] Features: 10/17 -- score: 0.7152000000000001[Parallel(n_jobs=1)]: Using backend SequentialBackend with 1 concurrent workers.\n",
            "[Parallel(n_jobs=1)]: Done   1 out of   1 | elapsed:   16.9s remaining:    0.0s\n",
            "[Parallel(n_jobs=1)]: Done  65 out of  65 | elapsed: 13.9min finished\n",
            "\n",
            "[2021-05-28 07:44:48] Features: 11/17 -- score: 0.7152000000000001[Parallel(n_jobs=1)]: Using backend SequentialBackend with 1 concurrent workers.\n",
            "[Parallel(n_jobs=1)]: Done   1 out of   1 | elapsed:   17.3s remaining:    0.0s\n",
            "[Parallel(n_jobs=1)]: Done  64 out of  64 | elapsed: 13.8min finished\n",
            "\n",
            "[2021-05-28 07:58:38] Features: 12/17 -- score: 0.7152000000000001[Parallel(n_jobs=1)]: Using backend SequentialBackend with 1 concurrent workers.\n",
            "[Parallel(n_jobs=1)]: Done   1 out of   1 | elapsed:   17.5s remaining:    0.0s\n",
            "[Parallel(n_jobs=1)]: Done  63 out of  63 | elapsed: 13.4min finished\n",
            "\n",
            "[2021-05-28 08:12:04] Features: 13/17 -- score: 0.7152000000000001[Parallel(n_jobs=1)]: Using backend SequentialBackend with 1 concurrent workers.\n",
            "[Parallel(n_jobs=1)]: Done   1 out of   1 | elapsed:   18.3s remaining:    0.0s\n",
            "[Parallel(n_jobs=1)]: Done  62 out of  62 | elapsed: 15.2min finished\n",
            "\n",
            "[2021-05-28 08:27:14] Features: 14/17 -- score: 0.7152000000000001[Parallel(n_jobs=1)]: Using backend SequentialBackend with 1 concurrent workers.\n",
            "[Parallel(n_jobs=1)]: Done   1 out of   1 | elapsed:   25.6s remaining:    0.0s\n",
            "[Parallel(n_jobs=1)]: Done  61 out of  61 | elapsed: 18.0min finished\n",
            "\n",
            "[2021-05-28 08:45:13] Features: 15/17 -- score: 0.7152000000000001[Parallel(n_jobs=1)]: Using backend SequentialBackend with 1 concurrent workers.\n",
            "[Parallel(n_jobs=1)]: Done   1 out of   1 | elapsed:   19.1s remaining:    0.0s\n",
            "[Parallel(n_jobs=1)]: Done  60 out of  60 | elapsed: 15.2min finished\n",
            "\n",
            "[2021-05-28 09:00:24] Features: 16/17 -- score: 0.7152000000000001[Parallel(n_jobs=1)]: Using backend SequentialBackend with 1 concurrent workers.\n",
            "[Parallel(n_jobs=1)]: Done   1 out of   1 | elapsed:   19.8s remaining:    0.0s\n",
            "[Parallel(n_jobs=1)]: Done  59 out of  59 | elapsed: 15.2min finished\n",
            "\n",
            "[2021-05-28 09:15:36] Features: 17/17 -- score: 0.7152000000000001"
          ],
          "name": "stderr"
        }
      ]
    },
    {
      "cell_type": "code",
      "metadata": {
        "colab": {
          "base_uri": "https://localhost:8080/"
        },
        "id": "gsnPuaG1eJVx",
        "outputId": "df9f2101-3f4c-43b1-9775-d5fe39aba204"
      },
      "source": [
        "ffs.subsets_\n",
        "ffs.k_feature_names_"
      ],
      "execution_count": 4,
      "outputs": [
        {
          "output_type": "execute_result",
          "data": {
            "text/plain": [
              "('Length',\n",
              " 'AdvMod',\n",
              " 'AMod',\n",
              " 'DTreeHeight',\n",
              " 'dobj',\n",
              " 'nummod',\n",
              " 'acl',\n",
              " 'amod',\n",
              " 'auxpass',\n",
              " 'nsubjpass',\n",
              " 'nsubj',\n",
              " 'nmod',\n",
              " 'ROOT+nummod',\n",
              " 'det+nummod',\n",
              " 'nsubj+dobj',\n",
              " 'ROOT_ccomp_aux',\n",
              " 'CompSupAdv')"
            ]
          },
          "metadata": {
            "tags": []
          },
          "execution_count": 4
        }
      ]
    },
    {
      "cell_type": "code",
      "metadata": {
        "colab": {
          "base_uri": "https://localhost:8080/"
        },
        "id": "ow19HqDh_ci1",
        "outputId": "97040a40-8dd6-4b05-9c1b-c0c890cdbffc"
      },
      "source": [
        "rfe_feats2 = ffs.subsets_\n",
        "list(rfe_feats2)"
      ],
      "execution_count": 5,
      "outputs": [
        {
          "output_type": "execute_result",
          "data": {
            "text/plain": [
              "[1, 2, 3, 4, 5, 6, 7, 8, 9, 10, 11, 12, 13, 14, 15, 16, 17]"
            ]
          },
          "metadata": {
            "tags": []
          },
          "execution_count": 5
        }
      ]
    },
    {
      "cell_type": "code",
      "metadata": {
        "id": "bjPWGDWzKabn"
      },
      "source": [
        "# update all the datasets columns according to the selected features, and remove the redundant features. \n",
        "# and save the new files in the new folder\n",
        "data_folder = './' #can be an url\n",
        "datafolder2 = './ffs/'\n",
        "filenames = ['promise-reclass', 'ds2', 'ds3', 'dronology', 'wasp', 'esa-eucl-est', 'leeds', 'reqview', 'reqreq','rds4','rds8','rds9','rds12', 'OAppt' ]\n",
        "for filename in filenames: #loop for all datasets\n",
        "      data3 = pd.read_csv(data_folder+filename + '-ling-allext.csv', engine='python')\n",
        "      keep_col = ['ProjectID','IsQuality','IsFunctional'] + features\n",
        "      new_data = data3[keep_col]\n",
        "      new_filename = filename  + '-ffs-allext.csv'\n",
        "      new_data.to_csv(datafolder2+new_filename, index=True)"
      ],
      "execution_count": 6,
      "outputs": []
    },
    {
      "cell_type": "markdown",
      "metadata": {
        "id": "qc_OtY1SwsHN"
      },
      "source": [
        "# Quality"
      ]
    },
    {
      "cell_type": "code",
      "metadata": {
        "id": "-ak4uEHywudY",
        "colab": {
          "base_uri": "https://localhost:8080/"
        },
        "outputId": "4ea30a55-958a-4312-8384-3f88ed7285cb"
      },
      "source": [
        "# read the combined data set with all requirements. \n",
        "\n",
        "datapath = './promisecombined.csv'\n",
        "df = pd.read_csv(datapath, index_col = \"index\")\n",
        "print(df.shape)\n",
        "\n",
        "x = df.drop(\"IsQuality\", 1)       # feature matrix\n",
        "x = x.drop(\"ProjectID\", 1)       # feature matrix\n",
        "x = x.drop(\"RequirementText\", 1)       # feature matrix\n",
        "x = x.drop(\"Class\", 1)\n",
        "x = x.drop(\"IsFunctional\", 1)\n",
        "y = df['IsQuality']               # target feature\n",
        "df.head()\n",
        "\n",
        "\n",
        "clf = svm.SVC(kernel='linear', probability=True, random_state=0)\n",
        "ffs = SequentialFeatureSelector(clf,\n",
        "           k_features=17,\n",
        "           forward=True,\n",
        "           floating=False,\n",
        "           verbose=2,\n",
        "           scoring='accuracy',\n",
        "           cv=5)\n",
        "ffs.fit(x,y)\n",
        "features=list(ffs.k_feature_names_)\n",
        "#features=list(map(int, features ))"
      ],
      "execution_count": 7,
      "outputs": [
        {
          "output_type": "stream",
          "text": [
            "(625, 80)\n"
          ],
          "name": "stdout"
        },
        {
          "output_type": "stream",
          "text": [
            "[Parallel(n_jobs=1)]: Using backend SequentialBackend with 1 concurrent workers.\n",
            "[Parallel(n_jobs=1)]: Done   1 out of   1 | elapsed:    6.1s remaining:    0.0s\n",
            "[Parallel(n_jobs=1)]: Done  75 out of  75 | elapsed:    9.9s finished\n",
            "\n",
            "[2021-05-28 09:24:43] Features: 1/17 -- score: 0.648[Parallel(n_jobs=1)]: Using backend SequentialBackend with 1 concurrent workers.\n",
            "[Parallel(n_jobs=1)]: Done   1 out of   1 | elapsed:    2.1s remaining:    0.0s\n",
            "[Parallel(n_jobs=1)]: Done  74 out of  74 | elapsed:    5.7s finished\n",
            "\n",
            "[2021-05-28 09:24:49] Features: 2/17 -- score: 0.6704000000000001[Parallel(n_jobs=1)]: Using backend SequentialBackend with 1 concurrent workers.\n",
            "[Parallel(n_jobs=1)]: Done   1 out of   1 | elapsed:    2.8s remaining:    0.0s\n",
            "[Parallel(n_jobs=1)]: Done  73 out of  73 | elapsed:    6.6s finished\n",
            "\n",
            "[2021-05-28 09:24:56] Features: 3/17 -- score: 0.7056000000000001[Parallel(n_jobs=1)]: Using backend SequentialBackend with 1 concurrent workers.\n",
            "[Parallel(n_jobs=1)]: Done   1 out of   1 | elapsed:    4.8s remaining:    0.0s\n",
            "[Parallel(n_jobs=1)]: Done  72 out of  72 | elapsed:    8.9s finished\n",
            "\n",
            "[2021-05-28 09:25:05] Features: 4/17 -- score: 0.7184[Parallel(n_jobs=1)]: Using backend SequentialBackend with 1 concurrent workers.\n",
            "[Parallel(n_jobs=1)]: Done   1 out of   1 | elapsed:    6.1s remaining:    0.0s\n",
            "[Parallel(n_jobs=1)]: Done  71 out of  71 | elapsed:   10.5s finished\n",
            "\n",
            "[2021-05-28 09:25:15] Features: 5/17 -- score: 0.7712000000000001[Parallel(n_jobs=1)]: Using backend SequentialBackend with 1 concurrent workers.\n",
            "[Parallel(n_jobs=1)]: Done   1 out of   1 | elapsed:   11.0s remaining:    0.0s\n",
            "[Parallel(n_jobs=1)]: Done  70 out of  70 | elapsed:   15.3s finished\n",
            "\n",
            "[2021-05-28 09:25:31] Features: 6/17 -- score: 0.7728[Parallel(n_jobs=1)]: Using backend SequentialBackend with 1 concurrent workers.\n",
            "[Parallel(n_jobs=1)]: Done   1 out of   1 | elapsed:   12.8s remaining:    0.0s\n",
            "[Parallel(n_jobs=1)]: Done  69 out of  69 | elapsed:   18.1s finished\n",
            "\n",
            "[2021-05-28 09:25:49] Features: 7/17 -- score: 0.7728[Parallel(n_jobs=1)]: Using backend SequentialBackend with 1 concurrent workers.\n",
            "[Parallel(n_jobs=1)]: Done   1 out of   1 | elapsed:   12.4s remaining:    0.0s\n",
            "[Parallel(n_jobs=1)]: Done  68 out of  68 | elapsed: 15.4min finished\n",
            "\n",
            "[2021-05-28 09:41:12] Features: 8/17 -- score: 0.7728[Parallel(n_jobs=1)]: Using backend SequentialBackend with 1 concurrent workers.\n",
            "[Parallel(n_jobs=1)]: Done   1 out of   1 | elapsed:   12.4s remaining:    0.0s\n",
            "[Parallel(n_jobs=1)]: Done  67 out of  67 | elapsed: 14.7min finished\n",
            "\n",
            "[2021-05-28 09:55:56] Features: 9/17 -- score: 0.7728[Parallel(n_jobs=1)]: Using backend SequentialBackend with 1 concurrent workers.\n",
            "[Parallel(n_jobs=1)]: Done   1 out of   1 | elapsed:   12.4s remaining:    0.0s\n",
            "[Parallel(n_jobs=1)]: Done  66 out of  66 | elapsed: 14.7min finished\n",
            "\n",
            "[2021-05-28 10:10:37] Features: 10/17 -- score: 0.7728[Parallel(n_jobs=1)]: Using backend SequentialBackend with 1 concurrent workers.\n",
            "[Parallel(n_jobs=1)]: Done   1 out of   1 | elapsed:   13.7s remaining:    0.0s\n",
            "[Parallel(n_jobs=1)]: Done  65 out of  65 | elapsed: 15.6min finished\n",
            "\n",
            "[2021-05-28 10:26:15] Features: 11/17 -- score: 0.7728[Parallel(n_jobs=1)]: Using backend SequentialBackend with 1 concurrent workers.\n",
            "[Parallel(n_jobs=1)]: Done   1 out of   1 | elapsed:   14.7s remaining:    0.0s\n",
            "[Parallel(n_jobs=1)]: Done  64 out of  64 | elapsed: 16.8min finished\n",
            "\n",
            "[2021-05-28 10:43:01] Features: 12/17 -- score: 0.7728[Parallel(n_jobs=1)]: Using backend SequentialBackend with 1 concurrent workers.\n",
            "[Parallel(n_jobs=1)]: Done   1 out of   1 | elapsed:   15.1s remaining:    0.0s\n",
            "[Parallel(n_jobs=1)]: Done  63 out of  63 | elapsed: 16.9min finished\n",
            "\n",
            "[2021-05-28 10:59:55] Features: 13/17 -- score: 0.7728[Parallel(n_jobs=1)]: Using backend SequentialBackend with 1 concurrent workers.\n",
            "[Parallel(n_jobs=1)]: Done   1 out of   1 | elapsed:   16.0s remaining:    0.0s\n",
            "[Parallel(n_jobs=1)]: Done  62 out of  62 | elapsed: 18.7min finished\n",
            "\n",
            "[2021-05-28 11:18:37] Features: 14/17 -- score: 0.7728[Parallel(n_jobs=1)]: Using backend SequentialBackend with 1 concurrent workers.\n",
            "[Parallel(n_jobs=1)]: Done   1 out of   1 | elapsed:   17.4s remaining:    0.0s\n",
            "[Parallel(n_jobs=1)]: Done  61 out of  61 | elapsed: 18.3min finished\n",
            "\n",
            "[2021-05-28 11:36:53] Features: 15/17 -- score: 0.7728[Parallel(n_jobs=1)]: Using backend SequentialBackend with 1 concurrent workers.\n",
            "[Parallel(n_jobs=1)]: Done   1 out of   1 | elapsed:   16.9s remaining:    0.0s\n",
            "[Parallel(n_jobs=1)]: Done  60 out of  60 | elapsed: 18.4min finished\n",
            "\n",
            "[2021-05-28 11:55:15] Features: 16/17 -- score: 0.7728[Parallel(n_jobs=1)]: Using backend SequentialBackend with 1 concurrent workers.\n",
            "[Parallel(n_jobs=1)]: Done   1 out of   1 | elapsed:   17.9s remaining:    0.0s\n",
            "[Parallel(n_jobs=1)]: Done  59 out of  59 | elapsed: 18.0min finished\n",
            "\n",
            "[2021-05-28 12:13:17] Features: 17/17 -- score: 0.7728"
          ],
          "name": "stderr"
        }
      ]
    },
    {
      "cell_type": "code",
      "metadata": {
        "id": "PPmRfikmw16N",
        "colab": {
          "base_uri": "https://localhost:8080/"
        },
        "outputId": "cb672144-826d-4594-8922-d826efcc6ef7"
      },
      "source": [
        "ffs.subsets_\n",
        "ffs.k_feature_names_\n",
        "rfe_feats2 = ffs.subsets_\n",
        "list(rfe_feats2)"
      ],
      "execution_count": 8,
      "outputs": [
        {
          "output_type": "execute_result",
          "data": {
            "text/plain": [
              "[1, 2, 3, 4, 5, 6, 7, 8, 9, 10, 11, 12, 13, 14, 15, 16, 17]"
            ]
          },
          "metadata": {
            "tags": []
          },
          "execution_count": 8
        }
      ]
    },
    {
      "cell_type": "code",
      "metadata": {
        "id": "iHykQK0Zw6Yw"
      },
      "source": [
        "# update all the datasets columns according to the selected features, and remove the redundant features. \n",
        "# and save the new files in the new folder\n",
        "data_folder = './' #can be an url\n",
        "datafolder2 = './ffsq/'\n",
        "filenames = ['promise-reclass', 'ds2', 'ds3', 'dronology', 'wasp', 'esa-eucl-est', 'leeds', 'reqview', 'reqreq','rds4','rds8','rds9','rds12', 'OAppt' ]\n",
        "for filename in filenames: #loop for all datasets\n",
        "      data3 = pd.read_csv(data_folder+filename + '-ling-allext.csv', engine='python')\n",
        "      keep_col = ['ProjectID','IsQuality','IsFunctional'] + features\n",
        "      new_data = data3[keep_col]\n",
        "      new_filename = filename  + '-ffsq-allext.csv'\n",
        "      new_data.to_csv(datafolder2+new_filename, index=True)"
      ],
      "execution_count": 9,
      "outputs": []
    },
    {
      "cell_type": "markdown",
      "metadata": {
        "id": "ljfZo52iwv5F"
      },
      "source": [
        "# Download"
      ]
    },
    {
      "cell_type": "code",
      "metadata": {
        "colab": {
          "base_uri": "https://localhost:8080/"
        },
        "id": "1r8Hn1KCPgSU",
        "outputId": "675d478b-21eb-46d9-cf57-bf2f6220b670"
      },
      "source": [
        "!zip ALL_DATASETS_FFSQ.zip -r ffsq/*\n",
        "!zip ALL_DATASETS_FFS.zip -r ffs/*"
      ],
      "execution_count": 10,
      "outputs": [
        {
          "output_type": "stream",
          "text": [
            "  adding: ffsq/dronology-ffsq-allext.csv (deflated 79%)\n",
            "  adding: ffsq/ds2-ffsq-allext.csv (deflated 82%)\n",
            "  adding: ffsq/ds3-ffsq-allext.csv (deflated 81%)\n",
            "  adding: ffsq/esa-eucl-est-ffsq-allext.csv (deflated 79%)\n",
            "  adding: ffsq/leeds-ffsq-allext.csv (deflated 78%)\n",
            "  adding: ffsq/OAppt-ffsq-allext.csv (deflated 80%)\n",
            "  adding: ffsq/promise-reclass-ffsq-allext.csv (deflated 81%)\n",
            "  adding: ffsq/rds12-ffsq-allext.csv (deflated 84%)\n",
            "  adding: ffsq/rds4-ffsq-allext.csv (deflated 78%)\n",
            "  adding: ffsq/rds8-ffsq-allext.csv (deflated 80%)\n",
            "  adding: ffsq/rds9-ffsq-allext.csv (deflated 80%)\n",
            "  adding: ffsq/reqreq-ffsq-allext.csv (deflated 77%)\n",
            "  adding: ffsq/reqview-ffsq-allext.csv (deflated 79%)\n",
            "  adding: ffsq/wasp-ffsq-allext.csv (deflated 77%)\n",
            "  adding: ffs/dronology-ffs-allext.csv (deflated 79%)\n",
            "  adding: ffs/ds2-ffs-allext.csv (deflated 81%)\n",
            "  adding: ffs/ds3-ffs-allext.csv (deflated 82%)\n",
            "  adding: ffs/esa-eucl-est-ffs-allext.csv (deflated 79%)\n",
            "  adding: ffs/leeds-ffs-allext.csv (deflated 78%)\n",
            "  adding: ffs/OAppt-ffs-allext.csv (deflated 81%)\n",
            "  adding: ffs/promise-reclass-ffs-allext.csv (deflated 81%)\n",
            "  adding: ffs/rds12-ffs-allext.csv (deflated 83%)\n",
            "  adding: ffs/rds4-ffs-allext.csv (deflated 78%)\n",
            "  adding: ffs/rds8-ffs-allext.csv (deflated 79%)\n",
            "  adding: ffs/rds9-ffs-allext.csv (deflated 80%)\n",
            "  adding: ffs/reqreq-ffs-allext.csv (deflated 78%)\n",
            "  adding: ffs/reqview-ffs-allext.csv (deflated 79%)\n",
            "  adding: ffs/wasp-ffs-allext.csv (deflated 76%)\n"
          ],
          "name": "stdout"
        }
      ]
    }
  ]
}